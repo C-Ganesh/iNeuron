{
 "cells": [
  {
   "cell_type": "markdown",
   "id": "55e2207f",
   "metadata": {},
   "source": [
    "#### 1. In the below elements which of them are values or an expression? eg:- values can be\n",
    "integer or string and expressions will be mathematical operators.\n",
    "*\n",
    "&#39;hello&#39;\n",
    "-87.8\n",
    "-\n",
    "/\n",
    "+\n",
    "6"
   ]
  },
  {
   "cell_type": "raw",
   "id": "8a47ac84",
   "metadata": {},
   "source": [
    "\n",
    "* is a Expression\n",
    "'hello' is a Value\n",
    "-87.8 is a Value\n",
    "- is a Expression\n",
    "/ is a Expression\n",
    "+ is a Expression\n",
    "6 is a Value"
   ]
  },
  {
   "cell_type": "markdown",
   "id": "3de49ffb",
   "metadata": {},
   "source": [
    "#### 2. What is the difference between string and variable?"
   ]
  },
  {
   "cell_type": "markdown",
   "id": "7a5079eb",
   "metadata": {},
   "source": [
    "- Variables are symbols that can used to store a type of data, but on the other hand string is a type of data type which is stored in data types, and also strign can be also used as a variable if we assign values to it."
   ]
  },
  {
   "cell_type": "markdown",
   "id": "c15b1eca",
   "metadata": {},
   "source": [
    "#### 3. Describe three different data types."
   ]
  },
  {
   "cell_type": "markdown",
   "id": "ba6dbc45",
   "metadata": {},
   "source": [
    "- The three diffrent types of data types are:\n",
    "1. INT - int is a data type with only integers wether it may be positive or negative. eg: 7,-77,8,54,098,90390 and many more.\n",
    "2. FLOAT - float is a data type with only the decimal numbers for complex calculations. eg: 45.77, 653.35, 657.76\n",
    "3. BOOLEAN - It's used to represent the truth value of an expression. For example, the expression 1 <= 2 is True , while the expression 0 == 1 is False . "
   ]
  },
  {
   "cell_type": "markdown",
   "id": "2f06dc18",
   "metadata": {},
   "source": [
    "#### 4. What is an expression made up of? What do all expressions do?"
   ]
  },
  {
   "cell_type": "markdown",
   "id": "cbc8a5ed",
   "metadata": {},
   "source": [
    "##### Expression\n",
    "An Expression is a amalgam of both operators and operands, together combined to form an Expresssion.\n",
    "- In programming language, the role of all the expressions is to take in the operators and operands and to produce a output which would be a value."
   ]
  },
  {
   "cell_type": "markdown",
   "id": "30c57b5a",
   "metadata": {},
   "source": [
    "#### 5. This assignment statements, like spam = 10. What is the difference between an expression and a statement?"
   ]
  },
  {
   "cell_type": "markdown",
   "id": "9799fba2",
   "metadata": {},
   "source": [
    "- In a programming language, the role of expression and statement are quite contradictory as expression takes in the combination of operators and values to compile and interpret to produce a output which would be a value, but on the other side statement is a outlandish unit of execution and doesnt return anything."
   ]
  },
  {
   "cell_type": "markdown",
   "id": "e4cce03a",
   "metadata": {},
   "source": [
    "#### 6. After running the following code, what does the variable bacon contain?\n",
    "bacon = 22\n",
    "\n",
    "bacon + 1\n"
   ]
  },
  {
   "cell_type": "markdown",
   "id": "d79713bf",
   "metadata": {},
   "source": [
    "- After running the code at the first line of code the bacon variable gets assigned with value of 22, furthermore going to the second line of the code where the value of the bacon gets incremented by a value of 1, therefore the final value of the bacon is 23."
   ]
  },
  {
   "cell_type": "markdown",
   "id": "0534b3e7",
   "metadata": {},
   "source": [
    "#### 7. What should the values of the following two terms be?\n",
    "'spam' + 'spamspam'\n",
    "\n",
    "'spam' * 3\n"
   ]
  },
  {
   "cell_type": "code",
   "execution_count": 1,
   "id": "450e6f24",
   "metadata": {},
   "outputs": [
    {
     "data": {
      "text/plain": [
       "'spamspamspam'"
      ]
     },
     "execution_count": 1,
     "metadata": {},
     "output_type": "execute_result"
    }
   ],
   "source": [
    "'spam'+'spamspam'\n",
    "# here the two strings are getting added "
   ]
  },
  {
   "cell_type": "code",
   "execution_count": 3,
   "id": "a4ecee08",
   "metadata": {},
   "outputs": [
    {
     "data": {
      "text/plain": [
       "'spamspamspam'"
      ]
     },
     "execution_count": 3,
     "metadata": {},
     "output_type": "execute_result"
    }
   ],
   "source": [
    "'spam'*3\n",
    "# but, in here the string is multiplies by the 3 times"
   ]
  },
  {
   "cell_type": "markdown",
   "id": "e9d82f7a",
   "metadata": {},
   "source": [
    "#### 8. Why is eggs a valid variable name while 100 is invalid?"
   ]
  },
  {
   "cell_type": "markdown",
   "id": "6912d686",
   "metadata": {},
   "source": [
    "- the reason why eggs is a valid variable name while 100 is invalid variable name because a variable name cannot start with a number, as a number has its own value which cannot be assigned with some other value."
   ]
  },
  {
   "cell_type": "markdown",
   "id": "3350005b",
   "metadata": {},
   "source": [
    "#### 9. What three functions can be used to get the integer, floating-point number, or string version of a value?"
   ]
  },
  {
   "cell_type": "markdown",
   "id": "70282014",
   "metadata": {},
   "source": [
    "- The int() , float() , and str( ) functions will evaluate to the integer, floating-point number, and string versions of the value passed to them."
   ]
  },
  {
   "cell_type": "markdown",
   "id": "8e90cea0",
   "metadata": {},
   "source": [
    "#### 10. Why does this expression cause an error? How can you fix it?\n",
    "'I have eaten ' + 99 + ' burritos.'\n"
   ]
  },
  {
   "cell_type": "markdown",
   "id": "614a1570",
   "metadata": {},
   "source": [
    "- the above when executed will give a error because when you are trying to join two values which are of diffrent data type will give rise to an error, hence either you convert 99 to string and add or else use the f-strings while printing it will take diffrent data types print it all together"
   ]
  }
 ],
 "metadata": {
  "kernelspec": {
   "display_name": "Python 3 (ipykernel)",
   "language": "python",
   "name": "python3"
  },
  "language_info": {
   "codemirror_mode": {
    "name": "ipython",
    "version": 3
   },
   "file_extension": ".py",
   "mimetype": "text/x-python",
   "name": "python",
   "nbconvert_exporter": "python",
   "pygments_lexer": "ipython3",
   "version": "3.9.12"
  }
 },
 "nbformat": 4,
 "nbformat_minor": 5
}
