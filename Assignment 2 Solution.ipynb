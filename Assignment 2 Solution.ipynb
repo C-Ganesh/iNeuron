{
 "cells": [
  {
   "cell_type": "markdown",
   "id": "f4d2dc74",
   "metadata": {},
   "source": [
    "#### 1.What are the two values of the Boolean data type? How do you write them?"
   ]
  },
  {
   "cell_type": "markdown",
   "id": "dc8166a2",
   "metadata": {},
   "source": [
    "- There are two values of boolean data type that is basically a 1 or 0, here 1 may be referred as successful condition and 0 may be shown as a unsucessful condtion. we write them represent them in python in the following ways:\n",
    "- 1 - True\n",
    "- 0 - False"
   ]
  },
  {
   "cell_type": "markdown",
   "id": "5e54701e",
   "metadata": {},
   "source": [
    "#### 2. What are the three different types of Boolean operators?"
   ]
  },
  {
   "cell_type": "markdown",
   "id": "40629346",
   "metadata": {},
   "source": [
    "- the three diffrent types of the boolean operators are as follows:\n",
    "1. and\n",
    "2. or\n",
    "3. not"
   ]
  },
  {
   "cell_type": "markdown",
   "id": "de3c01cd",
   "metadata": {},
   "source": [
    "#### 3. Make a list of each Boolean operator's truth tables (i.e. every possible combination of Boolean values for the operator and what it evaluate )."
   ]
  },
  {
   "cell_type": "markdown",
   "id": "ee9c1f59",
   "metadata": {},
   "source": [
    "**OR**   |**True**|**False**\n",
    "---------|--------|--------- \n",
    "**True** |  True  |  True\n",
    "**False**|  True  |  False\n",
    "\n",
    "**AND**  |**True**|**False**\n",
    "---------|--------|--------- \n",
    "**True** |  True  |  False\n",
    "**False**|  False |  False\n",
    "\n",
    "**NAND** |**True**|**False**\n",
    "---------|--------|--------- \n",
    "**True** |  False |  True\n",
    "**False**|  True  |  True\n",
    "\n",
    "**NOR**  |**True**|**False**\n",
    "---------|--------|--------- \n",
    "**True** |  False |  False\n",
    "**False**|  False |  True"
   ]
  },
  {
   "cell_type": "markdown",
   "id": "bf8e33e1",
   "metadata": {},
   "source": [
    "#### 4. What are the values of the following expressions?\n",
    "- (5 > 4) and (3 == 5)\n",
    "\n",
    "  not (5 > 4)\n",
    "\n",
    "  (5 > 4) or (3 == 5)\n",
    "\n",
    "  not ((5 > 4) or (3 == 5))\n",
    "\n",
    "  (True and True) and (True == False)\n",
    "\n",
    "  (not False) or (not True)"
   ]
  },
  {
   "cell_type": "markdown",
   "id": "28e948af",
   "metadata": {},
   "source": [
    "1. False\n",
    "2. False\n",
    "3. True\n",
    "4. False\n",
    "5. True"
   ]
  },
  {
   "cell_type": "markdown",
   "id": "c83fe8fb",
   "metadata": {},
   "source": [
    "#### 5. What are the six comparison operators?"
   ]
  },
  {
   "cell_type": "markdown",
   "id": "b77ef220",
   "metadata": {},
   "source": [
    "- The six comparision operators are \n",
    "1. equals to ==\n",
    "2. not equals to !=\n",
    "3. greater than >\n",
    "4. less than <\n",
    "5. greater than or equal to >=\n",
    "6. lesser than or equal to <="
   ]
  },
  {
   "cell_type": "markdown",
   "id": "13329a69",
   "metadata": {},
   "source": [
    "#### 6. How do you tell the difference between the equal to and assignment operators?Describe a condition and when you would use one."
   ]
  },
  {
   "cell_type": "markdown",
   "id": "8c6edcbc",
   "metadata": {},
   "source": [
    "- The difference between assignment operator and equal operator is that assignment operator uses only single equals to sign where as in equal operator uses double  equals to signs, also assignment operator is only used to assign values, but the equals operator has to check wether the both the side of the equation are equal or not\n",
    "\n",
    "- eg: a=10 # is a assignment operator\n",
    "- whereas a == 10 # is checks if a is equal to 10 or not and return a boolean value"
   ]
  },
  {
   "cell_type": "markdown",
   "id": "882f861e",
   "metadata": {},
   "source": [
    "#### 7. Identify the three blocks in this code:\n",
    "spam = 0\n",
    "\n",
    "if spam == 10:\n",
    "\n",
    "print('eggs')\n",
    "\n",
    "if spam > 5:\n",
    "\n",
    "print('bacon')\n",
    "\n",
    "else:\n",
    "\n",
    "print('ham')\n",
    "\n",
    "print('spam')\n",
    "\n",
    "print('spam')"
   ]
  },
  {
   "cell_type": "markdown",
   "id": "6ea37b96",
   "metadata": {},
   "source": [
    "- At first there is no indentation so there is no chance of this code to be executed!\n",
    "  but still the code can be deduced to the blocks\n",
    "1. block 1\n",
    " - spam = 10\n",
    "2. block 2\n",
    " - if spam == 10:\n",
    " - print('eggs)\n",
    "3. block 3\n",
    " - if spam > 5:\n",
    " - print('bacon')\n",
    " - else:\n",
    " - print('ham')\n",
    " - print('spam')\n",
    " - print('spam')\n",
    " "
   ]
  },
  {
   "cell_type": "markdown",
   "id": "4cd7f001",
   "metadata": {},
   "source": [
    "#### 8. Write code that prints Hello if 1 is stored in spam, prints Howdy if 2 is stored in spam, and prints Greetings! if anything else is stored in spam."
   ]
  },
  {
   "cell_type": "code",
   "execution_count": 3,
   "id": "8dba275f",
   "metadata": {},
   "outputs": [
    {
     "name": "stdout",
     "output_type": "stream",
     "text": [
      "enter a number0\n",
      "Greetings!\n"
     ]
    }
   ],
   "source": [
    "spam = int(input(\"enter a number\"))\n",
    "if spam == 1 :\n",
    "    print(\"Hello\")\n",
    "elif spam == 2 :\n",
    "    print(\"Howdy\")\n",
    "else:\n",
    "    print(\"Greetings!\")"
   ]
  },
  {
   "cell_type": "markdown",
   "id": "ed935d95",
   "metadata": {},
   "source": [
    "#### 9.If your programme is stuck in an endless loop, what keys you’ll press?"
   ]
  },
  {
   "cell_type": "markdown",
   "id": "0d28cab6",
   "metadata": {},
   "source": [
    "- Ctrl + C"
   ]
  },
  {
   "cell_type": "markdown",
   "id": "5c8cd921",
   "metadata": {},
   "source": [
    "#### 10. How can you tell the difference between break and continue?"
   ]
  },
  {
   "cell_type": "markdown",
   "id": "3639614e",
   "metadata": {},
   "source": [
    "The primary difference between break and continue statement in C is that the break statement leads to an immediate exit of the innermost switch or enclosing loop. On the other hand, the continue statement begins the next iteration of the while, enclosing for, or do loop."
   ]
  },
  {
   "cell_type": "markdown",
   "id": "148af6ac",
   "metadata": {},
   "source": [
    "#### 11. In a for loop, what is the difference between range(10), range(0, 10), and range(0, 10, 1)?"
   ]
  },
  {
   "cell_type": "markdown",
   "id": "40f2fec2",
   "metadata": {},
   "source": [
    "- All the function will give the same output as range(0,10,1) gives the most detailed way representing of 1st and 2nd methods. As, in first and if we dont even mention anything the default value will be 0 for starting value and the default value for the repetations is default 1"
   ]
  },
  {
   "cell_type": "markdown",
   "id": "a61f91f0",
   "metadata": {},
   "source": [
    "#### 12. Write a short program that prints the numbers 1 to 10 using a for loop. Then write an equivalent program that prints the numbers 1 to 10 using a while loop."
   ]
  },
  {
   "cell_type": "code",
   "execution_count": 5,
   "id": "30ab7534",
   "metadata": {},
   "outputs": [
    {
     "name": "stdout",
     "output_type": "stream",
     "text": [
      "1\n",
      "2\n",
      "3\n",
      "4\n",
      "5\n",
      "6\n",
      "7\n",
      "8\n",
      "9\n",
      "10\n",
      "\n",
      "\n",
      "1\n",
      "2\n",
      "3\n",
      "4\n",
      "5\n",
      "6\n",
      "7\n",
      "8\n",
      "9\n",
      "10\n"
     ]
    }
   ],
   "source": [
    "for i in range(1,11):\n",
    "    print(i)\n",
    "a = 1\n",
    "print(\"\\n\")\n",
    "while(a<=10):\n",
    "    print(a)\n",
    "    a += 1\n",
    "    "
   ]
  },
  {
   "cell_type": "markdown",
   "id": "501e4559",
   "metadata": {},
   "source": [
    "#### 13. If you had a function named bacon() inside a module named spam, how would you call it after importing spam?"
   ]
  },
  {
   "cell_type": "markdown",
   "id": "92d35ffd",
   "metadata": {},
   "source": [
    "from spam import bacon\n",
    "\n",
    "bacon()"
   ]
  }
 ],
 "metadata": {
  "kernelspec": {
   "display_name": "Python 3 (ipykernel)",
   "language": "python",
   "name": "python3"
  },
  "language_info": {
   "codemirror_mode": {
    "name": "ipython",
    "version": 3
   },
   "file_extension": ".py",
   "mimetype": "text/x-python",
   "name": "python",
   "nbconvert_exporter": "python",
   "pygments_lexer": "ipython3",
   "version": "3.9.12"
  }
 },
 "nbformat": 4,
 "nbformat_minor": 5
}
